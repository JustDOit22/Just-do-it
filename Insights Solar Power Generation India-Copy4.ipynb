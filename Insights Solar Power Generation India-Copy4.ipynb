{
 "cells": [
  {
   "cell_type": "markdown",
   "metadata": {},
   "source": [
    "### Insights Solar Power Generation India\n",
    "\n",
    "Power Generation transforms to renewable energy and solar power generation has a major stake in this transformation. To gain some insights in solar power generation, respective data from India gathered over 34 days will be analysed. Aim is to answer the following questions:\n",
    "\n",
    "    1. Which time of the day has the highest average generation volume?\n",
    "    2. Is it possible to forcast the generation and how good is the forecast?\n",
    "    3. How is the correlation between generation, temperature and irradiation?\n",
    " \n",
    " \n",
    "### Exploring the Data"
   ]
  },
  {
   "cell_type": "code",
   "execution_count": 122,
   "metadata": {},
   "outputs": [],
   "source": [
    "# Import necessary libraries\n",
    "import numpy as np\n",
    "import pandas as pd\n",
    "import datetime\n",
    "import matplotlib.pyplot as plt\n",
    "from sklearn.linear_model import LinearRegression\n",
    "from sklearn.model_selection import train_test_split\n",
    "from sklearn.metrics import r2_score, mean_squared_error\n",
    "import seaborn as sns; sns.set()\n",
    "\n",
    "\n",
    "# Pretty display for notebooks\n",
    "%matplotlib inline\n",
    "\n",
    "# Load the generation datasets\n",
    "plant1_gen = pd.read_csv(\"Plant_1_Generation_Data.csv\")\n",
    "plant1_weather = pd.read_csv('Plant_1_Weather_Sensor_Data.csv')\n"
   ]
  },
  {
   "cell_type": "markdown",
   "metadata": {},
   "source": [
    "> **Understand the generation data**"
   ]
  },
  {
   "cell_type": "code",
   "execution_count": 123,
   "metadata": {},
   "outputs": [],
   "source": [
    "# function to explore datasets\n",
    "def data_exploration(df_explore):\n",
    "    \"\"\"\n",
    "    Description: Function can be used for a first exploration of a dataset. \n",
    "    \n",
    "    It displays the first rows, infos about data types, number of columns and rows as well as statistical information. \n",
    "\n",
    "\n",
    "    Arguments:\n",
    "        Dataset: the dataset to be explored.\n",
    "\n",
    "    Returns:\n",
    "        None\n",
    "    \"\"\"\n",
    "    \n",
    "    print('Display of the first 5 rows for the dataset:')\n",
    "    print(df_explore.head())\n",
    "    print()\n",
    "    print('---------------------------------------------------------------------')\n",
    "    print()\n",
    "    print('Infos about data types, number of columns and rows:')\n",
    "    print(df_explore.info())\n",
    "    print()\n",
    "    print('---------------------------------------------------------------------')\n",
    "    print()\n",
    "    print('Statistics for the dataset:')\n",
    "    print(df_explore.describe())\n",
    "    "
   ]
  },
  {
   "cell_type": "code",
   "execution_count": 124,
   "metadata": {},
   "outputs": [
    {
     "name": "stdout",
     "output_type": "stream",
     "text": [
      "Display of the first 5 rows for the dataset:\n",
      "          DATE_TIME  PLANT_ID       SOURCE_KEY  DC_POWER  AC_POWER  \\\n",
      "0  15-05-2020 00:00   4135001  1BY6WEcLGh8j5v7       0.0       0.0   \n",
      "1  15-05-2020 00:00   4135001  1IF53ai7Xc0U56Y       0.0       0.0   \n",
      "2  15-05-2020 00:00   4135001  3PZuoBAID5Wc2HD       0.0       0.0   \n",
      "3  15-05-2020 00:00   4135001  7JYdWkrLSPkdwr4       0.0       0.0   \n",
      "4  15-05-2020 00:00   4135001  McdE0feGgRqW7Ca       0.0       0.0   \n",
      "\n",
      "   DAILY_YIELD  TOTAL_YIELD  \n",
      "0          0.0    6259559.0  \n",
      "1          0.0    6183645.0  \n",
      "2          0.0    6987759.0  \n",
      "3          0.0    7602960.0  \n",
      "4          0.0    7158964.0  \n",
      "\n",
      "---------------------------------------------------------------------\n",
      "\n",
      "Infos about data types, number of columns and rows:\n",
      "<class 'pandas.core.frame.DataFrame'>\n",
      "RangeIndex: 68778 entries, 0 to 68777\n",
      "Data columns (total 7 columns):\n",
      "DATE_TIME      68778 non-null object\n",
      "PLANT_ID       68778 non-null int64\n",
      "SOURCE_KEY     68778 non-null object\n",
      "DC_POWER       68778 non-null float64\n",
      "AC_POWER       68778 non-null float64\n",
      "DAILY_YIELD    68778 non-null float64\n",
      "TOTAL_YIELD    68778 non-null float64\n",
      "dtypes: float64(4), int64(1), object(2)\n",
      "memory usage: 3.7+ MB\n",
      "None\n",
      "\n",
      "---------------------------------------------------------------------\n",
      "\n",
      "Statistics for the dataset:\n",
      "        PLANT_ID      DC_POWER      AC_POWER   DAILY_YIELD   TOTAL_YIELD\n",
      "count    68778.0  68778.000000  68778.000000  68778.000000  6.877800e+04\n",
      "mean   4135001.0   3147.426211    307.802752   3295.968737  6.978712e+06\n",
      "std          0.0   4036.457169    394.396439   3145.178309  4.162720e+05\n",
      "min    4135001.0      0.000000      0.000000      0.000000  6.183645e+06\n",
      "25%    4135001.0      0.000000      0.000000      0.000000  6.512003e+06\n",
      "50%    4135001.0    429.000000     41.493750   2658.714286  7.146685e+06\n",
      "75%    4135001.0   6366.964286    623.618750   6274.000000  7.268706e+06\n",
      "max    4135001.0  14471.125000   1410.950000   9163.000000  7.846821e+06\n"
     ]
    }
   ],
   "source": [
    "# Explore the generation dataset by applying the function data_exploration\n",
    "data_exploration(plant1_gen)"
   ]
  },
  {
   "cell_type": "code",
   "execution_count": 125,
   "metadata": {
    "scrolled": false
   },
   "outputs": [
    {
     "data": {
      "text/html": [
       "<div>\n",
       "<style scoped>\n",
       "    .dataframe tbody tr th:only-of-type {\n",
       "        vertical-align: middle;\n",
       "    }\n",
       "\n",
       "    .dataframe tbody tr th {\n",
       "        vertical-align: top;\n",
       "    }\n",
       "\n",
       "    .dataframe thead th {\n",
       "        text-align: right;\n",
       "    }\n",
       "</style>\n",
       "<table border=\"1\" class=\"dataframe\">\n",
       "  <thead>\n",
       "    <tr style=\"text-align: right;\">\n",
       "      <th></th>\n",
       "      <th>DATE_TIME</th>\n",
       "      <th>PLANT_ID</th>\n",
       "      <th>SOURCE_KEY</th>\n",
       "      <th>DC_POWER</th>\n",
       "      <th>AC_POWER</th>\n",
       "      <th>DAILY_YIELD</th>\n",
       "      <th>TOTAL_YIELD</th>\n",
       "    </tr>\n",
       "  </thead>\n",
       "  <tbody>\n",
       "    <tr>\n",
       "      <th>11442</th>\n",
       "      <td>20-05-2020 19:00</td>\n",
       "      <td>4135001</td>\n",
       "      <td>zBIq5rxdHJRwDNY</td>\n",
       "      <td>0.000000</td>\n",
       "      <td>0.000000</td>\n",
       "      <td>8891.000000</td>\n",
       "      <td>6380862.000</td>\n",
       "    </tr>\n",
       "    <tr>\n",
       "      <th>33809</th>\n",
       "      <td>01-06-2020 07:45</td>\n",
       "      <td>4135001</td>\n",
       "      <td>rGa61gmuvPhdLxV</td>\n",
       "      <td>4808.714286</td>\n",
       "      <td>471.628571</td>\n",
       "      <td>352.285714</td>\n",
       "      <td>7236684.286</td>\n",
       "    </tr>\n",
       "    <tr>\n",
       "      <th>67723</th>\n",
       "      <td>17-06-2020 12:00</td>\n",
       "      <td>4135001</td>\n",
       "      <td>1IF53ai7Xc0U56Y</td>\n",
       "      <td>11748.250000</td>\n",
       "      <td>1146.487500</td>\n",
       "      <td>2877.125000</td>\n",
       "      <td>6430409.125</td>\n",
       "    </tr>\n",
       "    <tr>\n",
       "      <th>61500</th>\n",
       "      <td>14-06-2020 12:45</td>\n",
       "      <td>4135001</td>\n",
       "      <td>McdE0feGgRqW7Ca</td>\n",
       "      <td>7981.750000</td>\n",
       "      <td>781.275000</td>\n",
       "      <td>3988.750000</td>\n",
       "      <td>7385911.750</td>\n",
       "    </tr>\n",
       "    <tr>\n",
       "      <th>29678</th>\n",
       "      <td>30-05-2020 08:45</td>\n",
       "      <td>4135001</td>\n",
       "      <td>pkci93gMrogZuBj</td>\n",
       "      <td>3486.285714</td>\n",
       "      <td>342.728571</td>\n",
       "      <td>569.857143</td>\n",
       "      <td>7282104.857</td>\n",
       "    </tr>\n",
       "    <tr>\n",
       "      <th>21937</th>\n",
       "      <td>26-05-2020 07:00</td>\n",
       "      <td>4135001</td>\n",
       "      <td>zVJPv84UY57bAof</td>\n",
       "      <td>1763.857143</td>\n",
       "      <td>172.785714</td>\n",
       "      <td>77.714286</td>\n",
       "      <td>7197686.714</td>\n",
       "    </tr>\n",
       "    <tr>\n",
       "      <th>57140</th>\n",
       "      <td>12-06-2020 11:15</td>\n",
       "      <td>4135001</td>\n",
       "      <td>1BY6WEcLGh8j5v7</td>\n",
       "      <td>8295.428571</td>\n",
       "      <td>811.757143</td>\n",
       "      <td>1793.714286</td>\n",
       "      <td>6452031.714</td>\n",
       "    </tr>\n",
       "    <tr>\n",
       "      <th>17499</th>\n",
       "      <td>24-05-2020 04:00</td>\n",
       "      <td>4135001</td>\n",
       "      <td>z9Y9gH1T5YWrNuG</td>\n",
       "      <td>0.000000</td>\n",
       "      <td>0.000000</td>\n",
       "      <td>0.000000</td>\n",
       "      <td>7072762.000</td>\n",
       "    </tr>\n",
       "    <tr>\n",
       "      <th>41476</th>\n",
       "      <td>05-06-2020 00:00</td>\n",
       "      <td>4135001</td>\n",
       "      <td>wCURE6d3bPkepu2</td>\n",
       "      <td>0.000000</td>\n",
       "      <td>0.000000</td>\n",
       "      <td>0.000000</td>\n",
       "      <td>6939021.000</td>\n",
       "    </tr>\n",
       "    <tr>\n",
       "      <th>19810</th>\n",
       "      <td>25-05-2020 07:00</td>\n",
       "      <td>4135001</td>\n",
       "      <td>WRmjgnKYAwPKWDb</td>\n",
       "      <td>1854.142857</td>\n",
       "      <td>181.757143</td>\n",
       "      <td>79.714286</td>\n",
       "      <td>7101196.714</td>\n",
       "    </tr>\n",
       "  </tbody>\n",
       "</table>\n",
       "</div>"
      ],
      "text/plain": [
       "              DATE_TIME  PLANT_ID       SOURCE_KEY      DC_POWER     AC_POWER  \\\n",
       "11442  20-05-2020 19:00   4135001  zBIq5rxdHJRwDNY      0.000000     0.000000   \n",
       "33809  01-06-2020 07:45   4135001  rGa61gmuvPhdLxV   4808.714286   471.628571   \n",
       "67723  17-06-2020 12:00   4135001  1IF53ai7Xc0U56Y  11748.250000  1146.487500   \n",
       "61500  14-06-2020 12:45   4135001  McdE0feGgRqW7Ca   7981.750000   781.275000   \n",
       "29678  30-05-2020 08:45   4135001  pkci93gMrogZuBj   3486.285714   342.728571   \n",
       "21937  26-05-2020 07:00   4135001  zVJPv84UY57bAof   1763.857143   172.785714   \n",
       "57140  12-06-2020 11:15   4135001  1BY6WEcLGh8j5v7   8295.428571   811.757143   \n",
       "17499  24-05-2020 04:00   4135001  z9Y9gH1T5YWrNuG      0.000000     0.000000   \n",
       "41476  05-06-2020 00:00   4135001  wCURE6d3bPkepu2      0.000000     0.000000   \n",
       "19810  25-05-2020 07:00   4135001  WRmjgnKYAwPKWDb   1854.142857   181.757143   \n",
       "\n",
       "       DAILY_YIELD  TOTAL_YIELD  \n",
       "11442  8891.000000  6380862.000  \n",
       "33809   352.285714  7236684.286  \n",
       "67723  2877.125000  6430409.125  \n",
       "61500  3988.750000  7385911.750  \n",
       "29678   569.857143  7282104.857  \n",
       "21937    77.714286  7197686.714  \n",
       "57140  1793.714286  6452031.714  \n",
       "17499     0.000000  7072762.000  \n",
       "41476     0.000000  6939021.000  \n",
       "19810    79.714286  7101196.714  "
      ]
     },
     "execution_count": 125,
     "metadata": {},
     "output_type": "execute_result"
    }
   ],
   "source": [
    "# Display samples\n",
    "plant1_gen.sample(10)"
   ]
  },
  {
   "cell_type": "code",
   "execution_count": 126,
   "metadata": {
    "scrolled": false
   },
   "outputs": [
    {
     "data": {
      "text/plain": [
       "DATE_TIME      15-05-2020 00:0015-05-2020 00:0015-05-2020 00:...\n",
       "PLANT_ID                                            284397098778\n",
       "SOURCE_KEY     1BY6WEcLGh8j5v71IF53ai7Xc0U56Y3PZuoBAID5Wc2HD7...\n",
       "DC_POWER                                             2.16474e+08\n",
       "AC_POWER                                             2.11701e+07\n",
       "DAILY_YIELD                                           2.2669e+08\n",
       "TOTAL_YIELD                                          4.79982e+11\n",
       "dtype: object"
      ]
     },
     "execution_count": 126,
     "metadata": {},
     "output_type": "execute_result"
    }
   ],
   "source": [
    "# Display sum per column\n",
    "plant1_gen.sum()"
   ]
  },
  {
   "cell_type": "markdown",
   "metadata": {},
   "source": [
    "> **Understand the weather data**"
   ]
  },
  {
   "cell_type": "code",
   "execution_count": 127,
   "metadata": {
    "scrolled": false
   },
   "outputs": [
    {
     "name": "stdout",
     "output_type": "stream",
     "text": [
      "Display of the first 5 rows for the dataset:\n",
      "             DATE_TIME  PLANT_ID       SOURCE_KEY  AMBIENT_TEMPERATURE  \\\n",
      "0  2020-05-15 00:00:00   4135001  HmiyD2TTLFNqkNe            25.184316   \n",
      "1  2020-05-15 00:15:00   4135001  HmiyD2TTLFNqkNe            25.084589   \n",
      "2  2020-05-15 00:30:00   4135001  HmiyD2TTLFNqkNe            24.935753   \n",
      "3  2020-05-15 00:45:00   4135001  HmiyD2TTLFNqkNe            24.846130   \n",
      "4  2020-05-15 01:00:00   4135001  HmiyD2TTLFNqkNe            24.621525   \n",
      "\n",
      "   MODULE_TEMPERATURE  IRRADIATION  \n",
      "0           22.857507          0.0  \n",
      "1           22.761668          0.0  \n",
      "2           22.592306          0.0  \n",
      "3           22.360852          0.0  \n",
      "4           22.165423          0.0  \n",
      "\n",
      "---------------------------------------------------------------------\n",
      "\n",
      "Infos about data types, number of columns and rows:\n",
      "<class 'pandas.core.frame.DataFrame'>\n",
      "RangeIndex: 3182 entries, 0 to 3181\n",
      "Data columns (total 6 columns):\n",
      "DATE_TIME              3182 non-null object\n",
      "PLANT_ID               3182 non-null int64\n",
      "SOURCE_KEY             3182 non-null object\n",
      "AMBIENT_TEMPERATURE    3182 non-null float64\n",
      "MODULE_TEMPERATURE     3182 non-null float64\n",
      "IRRADIATION            3182 non-null float64\n",
      "dtypes: float64(3), int64(1), object(2)\n",
      "memory usage: 149.2+ KB\n",
      "None\n",
      "\n",
      "---------------------------------------------------------------------\n",
      "\n",
      "Statistics for the dataset:\n",
      "        PLANT_ID  AMBIENT_TEMPERATURE  MODULE_TEMPERATURE  IRRADIATION\n",
      "count     3182.0          3182.000000         3182.000000  3182.000000\n",
      "mean   4135001.0            25.531606           31.091015     0.228313\n",
      "std          0.0             3.354856           12.261222     0.300836\n",
      "min    4135001.0            20.398505           18.140415     0.000000\n",
      "25%    4135001.0            22.705182           21.090553     0.000000\n",
      "50%    4135001.0            24.613814           24.618060     0.024653\n",
      "75%    4135001.0            27.920532           41.307840     0.449588\n",
      "max    4135001.0            35.252486           65.545714     1.221652\n"
     ]
    }
   ],
   "source": [
    "# Explore the generation dataset by applying the function data_exploration\n",
    "data_exploration(plant1_weather)"
   ]
  },
  {
   "cell_type": "code",
   "execution_count": 128,
   "metadata": {
    "scrolled": false
   },
   "outputs": [
    {
     "data": {
      "text/html": [
       "<div>\n",
       "<style scoped>\n",
       "    .dataframe tbody tr th:only-of-type {\n",
       "        vertical-align: middle;\n",
       "    }\n",
       "\n",
       "    .dataframe tbody tr th {\n",
       "        vertical-align: top;\n",
       "    }\n",
       "\n",
       "    .dataframe thead th {\n",
       "        text-align: right;\n",
       "    }\n",
       "</style>\n",
       "<table border=\"1\" class=\"dataframe\">\n",
       "  <thead>\n",
       "    <tr style=\"text-align: right;\">\n",
       "      <th></th>\n",
       "      <th>DATE_TIME</th>\n",
       "      <th>PLANT_ID</th>\n",
       "      <th>SOURCE_KEY</th>\n",
       "      <th>AMBIENT_TEMPERATURE</th>\n",
       "      <th>MODULE_TEMPERATURE</th>\n",
       "      <th>IRRADIATION</th>\n",
       "    </tr>\n",
       "  </thead>\n",
       "  <tbody>\n",
       "    <tr>\n",
       "      <th>2348</th>\n",
       "      <td>2020-06-09 07:30:00</td>\n",
       "      <td>4135001</td>\n",
       "      <td>HmiyD2TTLFNqkNe</td>\n",
       "      <td>23.595209</td>\n",
       "      <td>28.269993</td>\n",
       "      <td>0.237298</td>\n",
       "    </tr>\n",
       "    <tr>\n",
       "      <th>2485</th>\n",
       "      <td>2020-06-10 17:45:00</td>\n",
       "      <td>4135001</td>\n",
       "      <td>HmiyD2TTLFNqkNe</td>\n",
       "      <td>25.690484</td>\n",
       "      <td>27.858786</td>\n",
       "      <td>0.082662</td>\n",
       "    </tr>\n",
       "    <tr>\n",
       "      <th>782</th>\n",
       "      <td>2020-05-23 19:15:00</td>\n",
       "      <td>4135001</td>\n",
       "      <td>HmiyD2TTLFNqkNe</td>\n",
       "      <td>27.588753</td>\n",
       "      <td>25.794478</td>\n",
       "      <td>0.000000</td>\n",
       "    </tr>\n",
       "    <tr>\n",
       "      <th>1636</th>\n",
       "      <td>2020-06-01 21:15:00</td>\n",
       "      <td>4135001</td>\n",
       "      <td>HmiyD2TTLFNqkNe</td>\n",
       "      <td>23.468129</td>\n",
       "      <td>20.998059</td>\n",
       "      <td>0.000000</td>\n",
       "    </tr>\n",
       "    <tr>\n",
       "      <th>2012</th>\n",
       "      <td>2020-06-05 19:30:00</td>\n",
       "      <td>4135001</td>\n",
       "      <td>HmiyD2TTLFNqkNe</td>\n",
       "      <td>24.760622</td>\n",
       "      <td>22.101622</td>\n",
       "      <td>0.000000</td>\n",
       "    </tr>\n",
       "    <tr>\n",
       "      <th>1191</th>\n",
       "      <td>2020-05-28 01:45:00</td>\n",
       "      <td>4135001</td>\n",
       "      <td>HmiyD2TTLFNqkNe</td>\n",
       "      <td>22.431586</td>\n",
       "      <td>20.403196</td>\n",
       "      <td>0.000000</td>\n",
       "    </tr>\n",
       "    <tr>\n",
       "      <th>2621</th>\n",
       "      <td>2020-06-12 03:45:00</td>\n",
       "      <td>4135001</td>\n",
       "      <td>HmiyD2TTLFNqkNe</td>\n",
       "      <td>22.117505</td>\n",
       "      <td>21.455585</td>\n",
       "      <td>0.000000</td>\n",
       "    </tr>\n",
       "    <tr>\n",
       "      <th>2220</th>\n",
       "      <td>2020-06-07 23:30:00</td>\n",
       "      <td>4135001</td>\n",
       "      <td>HmiyD2TTLFNqkNe</td>\n",
       "      <td>23.321769</td>\n",
       "      <td>22.170496</td>\n",
       "      <td>0.000000</td>\n",
       "    </tr>\n",
       "    <tr>\n",
       "      <th>274</th>\n",
       "      <td>2020-05-17 23:15:00</td>\n",
       "      <td>4135001</td>\n",
       "      <td>HmiyD2TTLFNqkNe</td>\n",
       "      <td>21.216575</td>\n",
       "      <td>20.635392</td>\n",
       "      <td>0.000000</td>\n",
       "    </tr>\n",
       "    <tr>\n",
       "      <th>3044</th>\n",
       "      <td>2020-06-16 13:30:00</td>\n",
       "      <td>4135001</td>\n",
       "      <td>HmiyD2TTLFNqkNe</td>\n",
       "      <td>28.401005</td>\n",
       "      <td>45.513633</td>\n",
       "      <td>0.582289</td>\n",
       "    </tr>\n",
       "  </tbody>\n",
       "</table>\n",
       "</div>"
      ],
      "text/plain": [
       "                DATE_TIME  PLANT_ID       SOURCE_KEY  AMBIENT_TEMPERATURE  \\\n",
       "2348  2020-06-09 07:30:00   4135001  HmiyD2TTLFNqkNe            23.595209   \n",
       "2485  2020-06-10 17:45:00   4135001  HmiyD2TTLFNqkNe            25.690484   \n",
       "782   2020-05-23 19:15:00   4135001  HmiyD2TTLFNqkNe            27.588753   \n",
       "1636  2020-06-01 21:15:00   4135001  HmiyD2TTLFNqkNe            23.468129   \n",
       "2012  2020-06-05 19:30:00   4135001  HmiyD2TTLFNqkNe            24.760622   \n",
       "1191  2020-05-28 01:45:00   4135001  HmiyD2TTLFNqkNe            22.431586   \n",
       "2621  2020-06-12 03:45:00   4135001  HmiyD2TTLFNqkNe            22.117505   \n",
       "2220  2020-06-07 23:30:00   4135001  HmiyD2TTLFNqkNe            23.321769   \n",
       "274   2020-05-17 23:15:00   4135001  HmiyD2TTLFNqkNe            21.216575   \n",
       "3044  2020-06-16 13:30:00   4135001  HmiyD2TTLFNqkNe            28.401005   \n",
       "\n",
       "      MODULE_TEMPERATURE  IRRADIATION  \n",
       "2348           28.269993     0.237298  \n",
       "2485           27.858786     0.082662  \n",
       "782            25.794478     0.000000  \n",
       "1636           20.998059     0.000000  \n",
       "2012           22.101622     0.000000  \n",
       "1191           20.403196     0.000000  \n",
       "2621           21.455585     0.000000  \n",
       "2220           22.170496     0.000000  \n",
       "274            20.635392     0.000000  \n",
       "3044           45.513633     0.582289  "
      ]
     },
     "execution_count": 128,
     "metadata": {},
     "output_type": "execute_result"
    }
   ],
   "source": [
    "# Display samples\n",
    "plant1_weather.sample(10)"
   ]
  },
  {
   "cell_type": "code",
   "execution_count": 129,
   "metadata": {
    "scrolled": true
   },
   "outputs": [
    {
     "data": {
      "text/plain": [
       "DATE_TIME              2020-05-15 00:00:002020-05-15 00:15:002020-05-...\n",
       "PLANT_ID                                                     13157573182\n",
       "SOURCE_KEY             HmiyD2TTLFNqkNeHmiyD2TTLFNqkNeHmiyD2TTLFNqkNeH...\n",
       "AMBIENT_TEMPERATURE                                              81241.6\n",
       "MODULE_TEMPERATURE                                               98931.6\n",
       "IRRADIATION                                                      726.491\n",
       "dtype: object"
      ]
     },
     "execution_count": 129,
     "metadata": {},
     "output_type": "execute_result"
    }
   ],
   "source": [
    "# Display sum per column\n",
    "plant1_weather.sum()"
   ]
  },
  {
   "cell_type": "markdown",
   "metadata": {},
   "source": [
    "> **Findings:**    \n",
    "\n",
    "Qualtity:   \n",
    "    - redundant data: each dataset has a column 'PLANT_ID', which contains just the same ID. The column is not needed for analysis.     \n",
    "    - missing values: None of the variables includes NaNs. There is no missing data: the columns in each dataset have the same number of rows. However, the number of rows in generation data (68,778) is significant higher than in weather data (3,182); generation data seems to have a more detailed time listing  \n",
    "    - different format: the columns DATE_Time are formatted in a different way and the data type in both datasets is object instead date time.\n"
   ]
  },
  {
   "cell_type": "markdown",
   "metadata": {},
   "source": [
    "### Data preparation"
   ]
  },
  {
   "cell_type": "code",
   "execution_count": 130,
   "metadata": {
    "scrolled": true
   },
   "outputs": [
    {
     "data": {
      "text/html": [
       "<div>\n",
       "<style scoped>\n",
       "    .dataframe tbody tr th:only-of-type {\n",
       "        vertical-align: middle;\n",
       "    }\n",
       "\n",
       "    .dataframe tbody tr th {\n",
       "        vertical-align: top;\n",
       "    }\n",
       "\n",
       "    .dataframe thead th {\n",
       "        text-align: right;\n",
       "    }\n",
       "</style>\n",
       "<table border=\"1\" class=\"dataframe\">\n",
       "  <thead>\n",
       "    <tr style=\"text-align: right;\">\n",
       "      <th></th>\n",
       "      <th>DATE_TIME</th>\n",
       "      <th>PLANT_ID</th>\n",
       "      <th>SOURCE_KEY</th>\n",
       "      <th>DC_POWER</th>\n",
       "      <th>AC_POWER</th>\n",
       "      <th>DAILY_YIELD</th>\n",
       "      <th>TOTAL_YIELD</th>\n",
       "    </tr>\n",
       "  </thead>\n",
       "  <tbody>\n",
       "    <tr>\n",
       "      <th>0</th>\n",
       "      <td>2020-05-15</td>\n",
       "      <td>4135001</td>\n",
       "      <td>1BY6WEcLGh8j5v7</td>\n",
       "      <td>0.0</td>\n",
       "      <td>0.0</td>\n",
       "      <td>0.0</td>\n",
       "      <td>6259559.0</td>\n",
       "    </tr>\n",
       "    <tr>\n",
       "      <th>1</th>\n",
       "      <td>2020-05-15</td>\n",
       "      <td>4135001</td>\n",
       "      <td>1IF53ai7Xc0U56Y</td>\n",
       "      <td>0.0</td>\n",
       "      <td>0.0</td>\n",
       "      <td>0.0</td>\n",
       "      <td>6183645.0</td>\n",
       "    </tr>\n",
       "    <tr>\n",
       "      <th>2</th>\n",
       "      <td>2020-05-15</td>\n",
       "      <td>4135001</td>\n",
       "      <td>3PZuoBAID5Wc2HD</td>\n",
       "      <td>0.0</td>\n",
       "      <td>0.0</td>\n",
       "      <td>0.0</td>\n",
       "      <td>6987759.0</td>\n",
       "    </tr>\n",
       "    <tr>\n",
       "      <th>3</th>\n",
       "      <td>2020-05-15</td>\n",
       "      <td>4135001</td>\n",
       "      <td>7JYdWkrLSPkdwr4</td>\n",
       "      <td>0.0</td>\n",
       "      <td>0.0</td>\n",
       "      <td>0.0</td>\n",
       "      <td>7602960.0</td>\n",
       "    </tr>\n",
       "    <tr>\n",
       "      <th>4</th>\n",
       "      <td>2020-05-15</td>\n",
       "      <td>4135001</td>\n",
       "      <td>McdE0feGgRqW7Ca</td>\n",
       "      <td>0.0</td>\n",
       "      <td>0.0</td>\n",
       "      <td>0.0</td>\n",
       "      <td>7158964.0</td>\n",
       "    </tr>\n",
       "  </tbody>\n",
       "</table>\n",
       "</div>"
      ],
      "text/plain": [
       "   DATE_TIME  PLANT_ID       SOURCE_KEY  DC_POWER  AC_POWER  DAILY_YIELD  \\\n",
       "0 2020-05-15   4135001  1BY6WEcLGh8j5v7       0.0       0.0          0.0   \n",
       "1 2020-05-15   4135001  1IF53ai7Xc0U56Y       0.0       0.0          0.0   \n",
       "2 2020-05-15   4135001  3PZuoBAID5Wc2HD       0.0       0.0          0.0   \n",
       "3 2020-05-15   4135001  7JYdWkrLSPkdwr4       0.0       0.0          0.0   \n",
       "4 2020-05-15   4135001  McdE0feGgRqW7Ca       0.0       0.0          0.0   \n",
       "\n",
       "   TOTAL_YIELD  \n",
       "0    6259559.0  \n",
       "1    6183645.0  \n",
       "2    6987759.0  \n",
       "3    7602960.0  \n",
       "4    7158964.0  "
      ]
     },
     "execution_count": 130,
     "metadata": {},
     "output_type": "execute_result"
    }
   ],
   "source": [
    "# Convert format of Date_Time columns from object to datetime\n",
    "plant1_gen['DATE_TIME'] = pd.to_datetime(plant1_gen['DATE_TIME'], format = '%d-%m-%Y %H:%M')\n",
    "plant1_gen.head(5)"
   ]
  },
  {
   "cell_type": "code",
   "execution_count": 131,
   "metadata": {
    "scrolled": false
   },
   "outputs": [
    {
     "data": {
      "text/html": [
       "<div>\n",
       "<style scoped>\n",
       "    .dataframe tbody tr th:only-of-type {\n",
       "        vertical-align: middle;\n",
       "    }\n",
       "\n",
       "    .dataframe tbody tr th {\n",
       "        vertical-align: top;\n",
       "    }\n",
       "\n",
       "    .dataframe thead th {\n",
       "        text-align: right;\n",
       "    }\n",
       "</style>\n",
       "<table border=\"1\" class=\"dataframe\">\n",
       "  <thead>\n",
       "    <tr style=\"text-align: right;\">\n",
       "      <th></th>\n",
       "      <th>DATE_TIME</th>\n",
       "      <th>PLANT_ID</th>\n",
       "      <th>SOURCE_KEY</th>\n",
       "      <th>AMBIENT_TEMPERATURE</th>\n",
       "      <th>MODULE_TEMPERATURE</th>\n",
       "      <th>IRRADIATION</th>\n",
       "    </tr>\n",
       "  </thead>\n",
       "  <tbody>\n",
       "    <tr>\n",
       "      <th>1940</th>\n",
       "      <td>2020-06-05 01:30:00</td>\n",
       "      <td>4135001</td>\n",
       "      <td>HmiyD2TTLFNqkNe</td>\n",
       "      <td>22.069800</td>\n",
       "      <td>19.270368</td>\n",
       "      <td>0.000000</td>\n",
       "    </tr>\n",
       "    <tr>\n",
       "      <th>693</th>\n",
       "      <td>2020-05-22 19:45:00</td>\n",
       "      <td>4135001</td>\n",
       "      <td>HmiyD2TTLFNqkNe</td>\n",
       "      <td>26.941038</td>\n",
       "      <td>25.366803</td>\n",
       "      <td>0.000000</td>\n",
       "    </tr>\n",
       "    <tr>\n",
       "      <th>1655</th>\n",
       "      <td>2020-06-02 02:00:00</td>\n",
       "      <td>4135001</td>\n",
       "      <td>HmiyD2TTLFNqkNe</td>\n",
       "      <td>21.683179</td>\n",
       "      <td>19.743534</td>\n",
       "      <td>0.000000</td>\n",
       "    </tr>\n",
       "    <tr>\n",
       "      <th>2152</th>\n",
       "      <td>2020-06-07 06:30:00</td>\n",
       "      <td>4135001</td>\n",
       "      <td>HmiyD2TTLFNqkNe</td>\n",
       "      <td>22.062724</td>\n",
       "      <td>21.586833</td>\n",
       "      <td>0.056334</td>\n",
       "    </tr>\n",
       "    <tr>\n",
       "      <th>1114</th>\n",
       "      <td>2020-05-27 06:30:00</td>\n",
       "      <td>4135001</td>\n",
       "      <td>HmiyD2TTLFNqkNe</td>\n",
       "      <td>23.340881</td>\n",
       "      <td>22.568992</td>\n",
       "      <td>0.060636</td>\n",
       "    </tr>\n",
       "  </tbody>\n",
       "</table>\n",
       "</div>"
      ],
      "text/plain": [
       "               DATE_TIME  PLANT_ID       SOURCE_KEY  AMBIENT_TEMPERATURE  \\\n",
       "1940 2020-06-05 01:30:00   4135001  HmiyD2TTLFNqkNe            22.069800   \n",
       "693  2020-05-22 19:45:00   4135001  HmiyD2TTLFNqkNe            26.941038   \n",
       "1655 2020-06-02 02:00:00   4135001  HmiyD2TTLFNqkNe            21.683179   \n",
       "2152 2020-06-07 06:30:00   4135001  HmiyD2TTLFNqkNe            22.062724   \n",
       "1114 2020-05-27 06:30:00   4135001  HmiyD2TTLFNqkNe            23.340881   \n",
       "\n",
       "      MODULE_TEMPERATURE  IRRADIATION  \n",
       "1940           19.270368     0.000000  \n",
       "693            25.366803     0.000000  \n",
       "1655           19.743534     0.000000  \n",
       "2152           21.586833     0.056334  \n",
       "1114           22.568992     0.060636  "
      ]
     },
     "execution_count": 131,
     "metadata": {},
     "output_type": "execute_result"
    }
   ],
   "source": [
    "# Convert format of Date_Time columns from object to datetime as well for the weather dataset\n",
    "plant1_weather['DATE_TIME'] = pd.to_datetime(plant1_weather['DATE_TIME'])\n",
    "plant1_weather.sample(5)"
   ]
  },
  {
   "cell_type": "code",
   "execution_count": 132,
   "metadata": {},
   "outputs": [
    {
     "data": {
      "text/plain": [
       "Index(['DATE_TIME', 'SOURCE_KEY', 'DC_POWER', 'AC_POWER', 'DAILY_YIELD',\n",
       "       'TOTAL_YIELD'],\n",
       "      dtype='object')"
      ]
     },
     "execution_count": 132,
     "metadata": {},
     "output_type": "execute_result"
    }
   ],
   "source": [
    "# Drop redundant columnns in generation dataset\n",
    "df_gen = plant1_gen\n",
    "df_gen.drop(['PLANT_ID'], axis = 1, inplace = True)\n",
    "df_gen.columns"
   ]
  },
  {
   "cell_type": "code",
   "execution_count": 133,
   "metadata": {
    "scrolled": true
   },
   "outputs": [
    {
     "data": {
      "text/plain": [
       "Index(['DATE_TIME', 'SOURCE_KEY', 'AMBIENT_TEMPERATURE', 'MODULE_TEMPERATURE',\n",
       "       'IRRADIATION'],\n",
       "      dtype='object')"
      ]
     },
     "execution_count": 133,
     "metadata": {},
     "output_type": "execute_result"
    }
   ],
   "source": [
    "# Drop redundant columnns in weather dataset\n",
    "df_weather = plant1_weather\n",
    "df_weather.drop(['PLANT_ID'], axis = 1, inplace = True)\n",
    "df_weather.columns"
   ]
  },
  {
   "cell_type": "code",
   "execution_count": 134,
   "metadata": {
    "scrolled": false
   },
   "outputs": [
    {
     "name": "stdout",
     "output_type": "stream",
     "text": [
      "<class 'pandas.core.frame.DataFrame'>\n",
      "DatetimeIndex: 3158 entries, 2020-05-15 00:00:00 to 2020-06-17 23:45:00\n",
      "Data columns (total 4 columns):\n",
      "DC_POWER       3158 non-null float64\n",
      "AC_POWER       3158 non-null float64\n",
      "DAILY_YIELD    3158 non-null float64\n",
      "TOTAL_YIELD    3158 non-null float64\n",
      "dtypes: float64(4)\n",
      "memory usage: 123.4 KB\n"
     ]
    }
   ],
   "source": [
    "# Summarize the generation data on level of a quarterly hour\n",
    "df_gen_2 = df_gen.groupby(['DATE_TIME']).sum()\n",
    "df_gen_2.head(50)\n",
    "df_gen_2.info() "
   ]
  },
  {
   "cell_type": "code",
   "execution_count": 135,
   "metadata": {
    "scrolled": false
   },
   "outputs": [
    {
     "data": {
      "text/plain": [
       "DC_POWER       2.164737e+08\n",
       "AC_POWER       2.117006e+07\n",
       "DAILY_YIELD    2.266901e+08\n",
       "TOTAL_YIELD    4.799818e+11\n",
       "dtype: float64"
      ]
     },
     "execution_count": 135,
     "metadata": {},
     "output_type": "execute_result"
    }
   ],
   "source": [
    "# Check if the sum of the columns is still identical\n",
    "df_gen_2.sum()"
   ]
  },
  {
   "cell_type": "code",
   "execution_count": 136,
   "metadata": {
    "scrolled": true
   },
   "outputs": [
    {
     "data": {
      "text/plain": [
       "DC_POWER               2.164737e+08\n",
       "AC_POWER               2.117006e+07\n",
       "DAILY_YIELD            2.266901e+08\n",
       "TOTAL_YIELD            4.799818e+11\n",
       "AMBIENT_TEMPERATURE    8.069373e+04\n",
       "MODULE_TEMPERATURE     9.842091e+04\n",
       "IRRADIATION            7.264357e+02\n",
       "dtype: float64"
      ]
     },
     "execution_count": 136,
     "metadata": {},
     "output_type": "execute_result"
    }
   ],
   "source": [
    "# Merge generation and weather data\n",
    "df_plant1 = pd.merge(df_gen_2, df_weather, on=['DATE_TIME'], how = 'left')\n",
    "df_plant1.sum()"
   ]
  },
  {
   "cell_type": "code",
   "execution_count": 137,
   "metadata": {},
   "outputs": [
    {
     "data": {
      "text/html": [
       "<div>\n",
       "<style scoped>\n",
       "    .dataframe tbody tr th:only-of-type {\n",
       "        vertical-align: middle;\n",
       "    }\n",
       "\n",
       "    .dataframe tbody tr th {\n",
       "        vertical-align: top;\n",
       "    }\n",
       "\n",
       "    .dataframe thead th {\n",
       "        text-align: right;\n",
       "    }\n",
       "</style>\n",
       "<table border=\"1\" class=\"dataframe\">\n",
       "  <thead>\n",
       "    <tr style=\"text-align: right;\">\n",
       "      <th></th>\n",
       "      <th>DATE_TIME</th>\n",
       "      <th>DC_POWER</th>\n",
       "      <th>AC_POWER</th>\n",
       "      <th>DAILY_YIELD</th>\n",
       "      <th>TOTAL_YIELD</th>\n",
       "      <th>SOURCE_KEY</th>\n",
       "      <th>AMBIENT_TEMPERATURE</th>\n",
       "      <th>MODULE_TEMPERATURE</th>\n",
       "      <th>IRRADIATION</th>\n",
       "    </tr>\n",
       "  </thead>\n",
       "  <tbody>\n",
       "    <tr>\n",
       "      <th>0</th>\n",
       "      <td>2020-05-15 00:00:00</td>\n",
       "      <td>0.0</td>\n",
       "      <td>0.0</td>\n",
       "      <td>0.0</td>\n",
       "      <td>143581676.0</td>\n",
       "      <td>HmiyD2TTLFNqkNe</td>\n",
       "      <td>25.184316</td>\n",
       "      <td>22.857507</td>\n",
       "      <td>0.0</td>\n",
       "    </tr>\n",
       "    <tr>\n",
       "      <th>1</th>\n",
       "      <td>2020-05-15 00:15:00</td>\n",
       "      <td>0.0</td>\n",
       "      <td>0.0</td>\n",
       "      <td>0.0</td>\n",
       "      <td>143581676.0</td>\n",
       "      <td>HmiyD2TTLFNqkNe</td>\n",
       "      <td>25.084589</td>\n",
       "      <td>22.761668</td>\n",
       "      <td>0.0</td>\n",
       "    </tr>\n",
       "    <tr>\n",
       "      <th>2</th>\n",
       "      <td>2020-05-15 00:30:00</td>\n",
       "      <td>0.0</td>\n",
       "      <td>0.0</td>\n",
       "      <td>0.0</td>\n",
       "      <td>143581676.0</td>\n",
       "      <td>HmiyD2TTLFNqkNe</td>\n",
       "      <td>24.935753</td>\n",
       "      <td>22.592306</td>\n",
       "      <td>0.0</td>\n",
       "    </tr>\n",
       "    <tr>\n",
       "      <th>3</th>\n",
       "      <td>2020-05-15 00:45:00</td>\n",
       "      <td>0.0</td>\n",
       "      <td>0.0</td>\n",
       "      <td>0.0</td>\n",
       "      <td>143581676.0</td>\n",
       "      <td>HmiyD2TTLFNqkNe</td>\n",
       "      <td>24.846130</td>\n",
       "      <td>22.360852</td>\n",
       "      <td>0.0</td>\n",
       "    </tr>\n",
       "    <tr>\n",
       "      <th>4</th>\n",
       "      <td>2020-05-15 01:00:00</td>\n",
       "      <td>0.0</td>\n",
       "      <td>0.0</td>\n",
       "      <td>0.0</td>\n",
       "      <td>150761642.0</td>\n",
       "      <td>HmiyD2TTLFNqkNe</td>\n",
       "      <td>24.621525</td>\n",
       "      <td>22.165423</td>\n",
       "      <td>0.0</td>\n",
       "    </tr>\n",
       "  </tbody>\n",
       "</table>\n",
       "</div>"
      ],
      "text/plain": [
       "            DATE_TIME  DC_POWER  AC_POWER  DAILY_YIELD  TOTAL_YIELD  \\\n",
       "0 2020-05-15 00:00:00       0.0       0.0          0.0  143581676.0   \n",
       "1 2020-05-15 00:15:00       0.0       0.0          0.0  143581676.0   \n",
       "2 2020-05-15 00:30:00       0.0       0.0          0.0  143581676.0   \n",
       "3 2020-05-15 00:45:00       0.0       0.0          0.0  143581676.0   \n",
       "4 2020-05-15 01:00:00       0.0       0.0          0.0  150761642.0   \n",
       "\n",
       "        SOURCE_KEY  AMBIENT_TEMPERATURE  MODULE_TEMPERATURE  IRRADIATION  \n",
       "0  HmiyD2TTLFNqkNe            25.184316           22.857507          0.0  \n",
       "1  HmiyD2TTLFNqkNe            25.084589           22.761668          0.0  \n",
       "2  HmiyD2TTLFNqkNe            24.935753           22.592306          0.0  \n",
       "3  HmiyD2TTLFNqkNe            24.846130           22.360852          0.0  \n",
       "4  HmiyD2TTLFNqkNe            24.621525           22.165423          0.0  "
      ]
     },
     "execution_count": 137,
     "metadata": {},
     "output_type": "execute_result"
    }
   ],
   "source": [
    "df_plant1 = df_plant1.dropna(axis = 0)\n",
    "df_plant1.head()"
   ]
  },
  {
   "cell_type": "code",
   "execution_count": 138,
   "metadata": {
    "scrolled": true
   },
   "outputs": [
    {
     "data": {
      "text/html": [
       "<div>\n",
       "<style scoped>\n",
       "    .dataframe tbody tr th:only-of-type {\n",
       "        vertical-align: middle;\n",
       "    }\n",
       "\n",
       "    .dataframe tbody tr th {\n",
       "        vertical-align: top;\n",
       "    }\n",
       "\n",
       "    .dataframe thead th {\n",
       "        text-align: right;\n",
       "    }\n",
       "</style>\n",
       "<table border=\"1\" class=\"dataframe\">\n",
       "  <thead>\n",
       "    <tr style=\"text-align: right;\">\n",
       "      <th></th>\n",
       "      <th>DATE_TIME</th>\n",
       "      <th>DC_POWER</th>\n",
       "      <th>AC_POWER</th>\n",
       "      <th>DAILY_YIELD</th>\n",
       "      <th>TOTAL_YIELD</th>\n",
       "      <th>SOURCE_KEY</th>\n",
       "      <th>AMBIENT_TEMPERATURE</th>\n",
       "      <th>MODULE_TEMPERATURE</th>\n",
       "      <th>IRRADIATION</th>\n",
       "      <th>Time</th>\n",
       "    </tr>\n",
       "  </thead>\n",
       "  <tbody>\n",
       "    <tr>\n",
       "      <th>0</th>\n",
       "      <td>2020-05-15 00:00:00</td>\n",
       "      <td>0.0</td>\n",
       "      <td>0.0</td>\n",
       "      <td>0.0</td>\n",
       "      <td>143581676.0</td>\n",
       "      <td>HmiyD2TTLFNqkNe</td>\n",
       "      <td>25.184316</td>\n",
       "      <td>22.857507</td>\n",
       "      <td>0.0</td>\n",
       "      <td>00:00:00</td>\n",
       "    </tr>\n",
       "    <tr>\n",
       "      <th>1</th>\n",
       "      <td>2020-05-15 00:15:00</td>\n",
       "      <td>0.0</td>\n",
       "      <td>0.0</td>\n",
       "      <td>0.0</td>\n",
       "      <td>143581676.0</td>\n",
       "      <td>HmiyD2TTLFNqkNe</td>\n",
       "      <td>25.084589</td>\n",
       "      <td>22.761668</td>\n",
       "      <td>0.0</td>\n",
       "      <td>00:15:00</td>\n",
       "    </tr>\n",
       "    <tr>\n",
       "      <th>2</th>\n",
       "      <td>2020-05-15 00:30:00</td>\n",
       "      <td>0.0</td>\n",
       "      <td>0.0</td>\n",
       "      <td>0.0</td>\n",
       "      <td>143581676.0</td>\n",
       "      <td>HmiyD2TTLFNqkNe</td>\n",
       "      <td>24.935753</td>\n",
       "      <td>22.592306</td>\n",
       "      <td>0.0</td>\n",
       "      <td>00:30:00</td>\n",
       "    </tr>\n",
       "    <tr>\n",
       "      <th>3</th>\n",
       "      <td>2020-05-15 00:45:00</td>\n",
       "      <td>0.0</td>\n",
       "      <td>0.0</td>\n",
       "      <td>0.0</td>\n",
       "      <td>143581676.0</td>\n",
       "      <td>HmiyD2TTLFNqkNe</td>\n",
       "      <td>24.846130</td>\n",
       "      <td>22.360852</td>\n",
       "      <td>0.0</td>\n",
       "      <td>00:45:00</td>\n",
       "    </tr>\n",
       "    <tr>\n",
       "      <th>4</th>\n",
       "      <td>2020-05-15 01:00:00</td>\n",
       "      <td>0.0</td>\n",
       "      <td>0.0</td>\n",
       "      <td>0.0</td>\n",
       "      <td>150761642.0</td>\n",
       "      <td>HmiyD2TTLFNqkNe</td>\n",
       "      <td>24.621525</td>\n",
       "      <td>22.165423</td>\n",
       "      <td>0.0</td>\n",
       "      <td>01:00:00</td>\n",
       "    </tr>\n",
       "  </tbody>\n",
       "</table>\n",
       "</div>"
      ],
      "text/plain": [
       "            DATE_TIME  DC_POWER  AC_POWER  DAILY_YIELD  TOTAL_YIELD  \\\n",
       "0 2020-05-15 00:00:00       0.0       0.0          0.0  143581676.0   \n",
       "1 2020-05-15 00:15:00       0.0       0.0          0.0  143581676.0   \n",
       "2 2020-05-15 00:30:00       0.0       0.0          0.0  143581676.0   \n",
       "3 2020-05-15 00:45:00       0.0       0.0          0.0  143581676.0   \n",
       "4 2020-05-15 01:00:00       0.0       0.0          0.0  150761642.0   \n",
       "\n",
       "        SOURCE_KEY  AMBIENT_TEMPERATURE  MODULE_TEMPERATURE  IRRADIATION  \\\n",
       "0  HmiyD2TTLFNqkNe            25.184316           22.857507          0.0   \n",
       "1  HmiyD2TTLFNqkNe            25.084589           22.761668          0.0   \n",
       "2  HmiyD2TTLFNqkNe            24.935753           22.592306          0.0   \n",
       "3  HmiyD2TTLFNqkNe            24.846130           22.360852          0.0   \n",
       "4  HmiyD2TTLFNqkNe            24.621525           22.165423          0.0   \n",
       "\n",
       "       Time  \n",
       "0  00:00:00  \n",
       "1  00:15:00  \n",
       "2  00:30:00  \n",
       "3  00:45:00  \n",
       "4  01:00:00  "
      ]
     },
     "execution_count": 138,
     "metadata": {},
     "output_type": "execute_result"
    }
   ],
   "source": [
    "# Extract the hour\n",
    "df_plant1['Time'] = df_plant1['DATE_TIME'].dt.time\n",
    "df_plant1.head()"
   ]
  },
  {
   "cell_type": "code",
   "execution_count": 139,
   "metadata": {},
   "outputs": [
    {
     "name": "stdout",
     "output_type": "stream",
     "text": [
      "<class 'pandas.core.frame.DataFrame'>\n",
      "Int64Index: 3157 entries, 0 to 3157\n",
      "Data columns (total 10 columns):\n",
      "DATE_TIME              3157 non-null datetime64[ns]\n",
      "DC_POWER               3157 non-null float64\n",
      "AC_POWER               3157 non-null float64\n",
      "DAILY_YIELD            3157 non-null float64\n",
      "TOTAL_YIELD            3157 non-null float64\n",
      "SOURCE_KEY             3157 non-null object\n",
      "AMBIENT_TEMPERATURE    3157 non-null float64\n",
      "MODULE_TEMPERATURE     3157 non-null float64\n",
      "IRRADIATION            3157 non-null float64\n",
      "Time                   3157 non-null object\n",
      "dtypes: datetime64[ns](1), float64(7), object(2)\n",
      "memory usage: 271.3+ KB\n"
     ]
    }
   ],
   "source": [
    "df_plant1.info()"
   ]
  },
  {
   "cell_type": "markdown",
   "metadata": {},
   "source": [
    "### Data Modelling"
   ]
  },
  {
   "cell_type": "markdown",
   "metadata": {},
   "source": [
    "> **Question 1:**  Which time of the day has the highest average generation volume?  "
   ]
  },
  {
   "cell_type": "code",
   "execution_count": 140,
   "metadata": {
    "scrolled": false
   },
   "outputs": [
    {
     "data": {
      "image/png": "[encoded data removed]",
      "text/plain": [
       "<Figure size 1296x432 with 1 Axes>"
      ]
     },
     "metadata": {},
     "output_type": "display_data"
    }
   ],
   "source": [
    "# Display the (average) generation per hour\n",
    "df_plant1.plot(x = 'Time', y = 'DC_POWER', figsize = (18,6), style = 'd', alpha = 0.4)\n",
    "\n",
    "df_plant1.groupby('Time')['DC_POWER'].mean().plot(color = 'r')\n",
    "\n",
    "plt.title('Which time of the day has the highest average generation volume?')\n",
    "plt.xlabel('Time of the day')\n",
    "plt.ylabel('Generation (DC power) in kWh? per quarterly hour')\n",
    "plt.show()"
   ]
  },
  {
   "cell_type": "code",
   "execution_count": 141,
   "metadata": {},
   "outputs": [
    {
     "data": {
      "text/plain": [
       "221034.06168884857"
      ]
     },
     "execution_count": 141,
     "metadata": {},
     "output_type": "execute_result"
    }
   ],
   "source": [
    "df_max = df_plant1.groupby('Time')['DC_POWER'].mean()\n",
    "df_max.max()"
   ]
  },
  {
   "cell_type": "code",
   "execution_count": 142,
   "metadata": {},
   "outputs": [
    {
     "data": {
      "text/plain": [
       "count        96.000000\n",
       "mean      67298.810202\n",
       "std       83359.326943\n",
       "min           0.000000\n",
       "25%           0.000000\n",
       "50%        6715.092502\n",
       "75%      149611.720063\n",
       "max      221034.061689\n",
       "Name: DC_POWER, dtype: float64"
      ]
     },
     "execution_count": 142,
     "metadata": {},
     "output_type": "execute_result"
    }
   ],
   "source": [
    "df_max.describe()"
   ]
  },
  {
   "cell_type": "markdown",
   "metadata": {},
   "source": [
    "> **Question 2:**   Is it possible to forcast the generation and how good is the forecast?"
   ]
  },
  {
   "cell_type": "code",
   "execution_count": 143,
   "metadata": {},
   "outputs": [
    {
     "name": "stdout",
     "output_type": "stream",
     "text": [
      "<class 'pandas.core.frame.DataFrame'>\n",
      "Int64Index: 3157 entries, 0 to 3157\n",
      "Data columns (total 13 columns):\n",
      "DATE_TIME              3157 non-null datetime64[ns]\n",
      "DC_POWER               3157 non-null float64\n",
      "AC_POWER               3157 non-null float64\n",
      "DAILY_YIELD            3157 non-null float64\n",
      "TOTAL_YIELD            3157 non-null float64\n",
      "SOURCE_KEY             3157 non-null object\n",
      "AMBIENT_TEMPERATURE    3157 non-null float64\n",
      "MODULE_TEMPERATURE     3157 non-null float64\n",
      "IRRADIATION            3157 non-null float64\n",
      "Time                   3157 non-null object\n",
      "Hour                   3157 non-null int64\n",
      "Minutes                3157 non-null int64\n",
      "Day_time               3157 non-null float64\n",
      "dtypes: datetime64[ns](1), float64(8), int64(2), object(2)\n",
      "memory usage: 345.3+ KB\n"
     ]
    }
   ],
   "source": [
    "#Convert time to integer\n",
    "df_plant1['Hour'] = df_plant1['DATE_TIME'].dt.hour\n",
    "df_plant1['Minutes'] = df_plant1['DATE_TIME'].dt.minute\n",
    "df_plant1['Day_time'] = df_plant1['Hour'] + df_plant1['Minutes'] / 60\n",
    "\n",
    "df_plant1.info()"
   ]
  },
  {
   "cell_type": "code",
   "execution_count": 144,
   "metadata": {},
   "outputs": [],
   "source": [
    "#Split into explanatory and response variables\n",
    "X = df_plant1[['AMBIENT_TEMPERATURE', 'MODULE_TEMPERATURE', 'IRRADIATION', 'Day_time']].astype(float).round(2)\n",
    "y = df_plant1['DC_POWER'].astype(float).round(2)\n"
   ]
  },
  {
   "cell_type": "code",
   "execution_count": 145,
   "metadata": {},
   "outputs": [
    {
     "data": {
      "text/plain": [
       "'The r-squared score for your model was 0.9935673305567002 on 948 values.'"
      ]
     },
     "execution_count": 145,
     "metadata": {},
     "output_type": "execute_result"
    }
   ],
   "source": [
    "#Split into train and test\n",
    "X_train, X_test, y_train, y_test = train_test_split(X, y, test_size = .30, random_state=42) \n",
    "\n",
    "lm_model = LinearRegression(normalize = True) # Instantiate\n",
    "lm_model.fit(X_train, y_train) #Fit\n",
    "        \n",
    "#Predict and score the model\n",
    "y_test_preds = lm_model.predict(X_test) \n",
    "\"The r-squared score for your model was {} on {} values.\".format(r2_score(y_test, y_test_preds), len(y_test))"
   ]
  },
  {
   "cell_type": "markdown",
   "metadata": {},
   "source": [
    "> **Question 3:**   How is the correlation between generation, temperature and irradiation?"
   ]
  },
  {
   "cell_type": "code",
   "execution_count": 146,
   "metadata": {},
   "outputs": [
    {
     "data": {
      "image/png": "[encoded data removed]",
      "text/plain": [
       "<Figure size 432x288 with 2 Axes>"
      ]
     },
     "metadata": {},
     "output_type": "display_data"
    }
   ],
   "source": [
    "#Display a heatmap reflecting the correlations\n",
    "df_corr = df_plant1[['DC_POWER','AMBIENT_TEMPERATURE', 'MODULE_TEMPERATURE', 'IRRADIATION', 'Day_time']].astype(float).round(2)\n",
    "ax = sns.heatmap(df_corr.corr(), annot = True, fmt=\".2f\", vmin = -0.5)\n",
    "ax.set_title('Correlation Matrix')\n",
    "plt.show()"
   ]
  },
  {
   "cell_type": "markdown",
   "metadata": {},
   "source": [
    "### Evaluation of Results"
   ]
  },
  {
   "cell_type": "code",
   "execution_count": 147,
   "metadata": {},
   "outputs": [],
   "source": [
    "#See blog post"
   ]
  },
  {
   "cell_type": "markdown",
   "metadata": {},
   "source": [
    "### Sources\n",
    "\n",
    "Analysed data:   \n",
    "https://www.kaggle.com/anikannal/solar-power-generation-data    \n",
    "Extraction of date / times:    \n",
    "https://stackoverflow.com/questions/41918115/how-do-i-extract-the-date-year-month-from-pandas-dataframe    \n"
   ]
  },
  {
   "cell_type": "code",
   "execution_count": null,
   "metadata": {},
   "outputs": [],
   "source": []
  }
 ],
 "metadata": {
  "kernelspec": {
   "display_name": "Python [conda env:Anaconda3]",
   "language": "python",
   "name": "conda-env-Anaconda3-py"
  },
  "language_info": {
   "codemirror_mode": {
    "name": "ipython",
    "version": 3
   },
   "file_extension": ".py",
   "mimetype": "text/x-python",
   "name": "python",
   "nbconvert_exporter": "python",
   "pygments_lexer": "ipython3",
   "version": "3.6.5"
  }
 },
 "nbformat": 4,
 "nbformat_minor": 2
}
